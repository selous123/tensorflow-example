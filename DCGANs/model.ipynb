{
 "cells": [
  {
   "cell_type": "code",
   "execution_count": null,
   "metadata": {
    "collapsed": true
   },
   "outputs": [],
   "source": [
    "class DCGANsModel(object):\n",
    "    def __init__(self,images,z):\n",
    "    \"\"\"\n",
    "    Args:\n",
    "        images:shape,[batch_size,height*width]\n",
    "        z     :shape,[batch_size,100]\n",
    "    \"\"\"\n",
    "        self.images = images\n",
    "        self.z = z\n",
    "        \n",
    "    \n",
    "    def generator(self,reuse=None):\n",
    "        self.z\n",
    "    \n",
    "    def discriminator(self,reuse=None):\n",
    "        with variable_scope(\"reshape\"):\n",
    "            images_input = tf.reshape(self.images,shape=[-1,28,28,1],name=\"reshape\")\n",
    "    \n",
    "    def optimize(self):\n",
    "        pass\n",
    "    \n",
    "    def error(self):\n",
    "        pass\n",
    "        "
   ]
  }
 ],
 "metadata": {
  "kernelspec": {
   "display_name": "Python 2",
   "language": "python",
   "name": "python2"
  },
  "language_info": {
   "codemirror_mode": {
    "name": "ipython",
    "version": 2
   },
   "file_extension": ".py",
   "mimetype": "text/x-python",
   "name": "python",
   "nbconvert_exporter": "python",
   "pygments_lexer": "ipython2",
   "version": "2.7.13"
  }
 },
 "nbformat": 4,
 "nbformat_minor": 2
}
