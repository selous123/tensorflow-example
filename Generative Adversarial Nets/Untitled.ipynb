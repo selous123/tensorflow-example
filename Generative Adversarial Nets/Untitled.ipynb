{
 "cells": [
  {
   "cell_type": "code",
   "execution_count": null,
   "metadata": {
    "collapsed": true
   },
   "outputs": [],
   "source": [
    "\n",
    "def GANsModel(object):\n",
    "    def __init__(self):\n",
    "        \n",
    "        \n",
    "        \n",
    "        self.build_model()\n",
    "        pass\n",
    "    \n",
    "    def build_model(self):\n",
    "        pass\n",
    "    \n",
    "    def training(self):\n",
    "        pass\n",
    "    \n",
    "    def discriminator(self):\n",
    "        pass\n",
    "    \n",
    "    def generator(self):\n",
    "        pass\n",
    "    \n",
    "    \n",
    "    \n"
   ]
  },
  {
   "cell_type": "code",
   "execution_count": 1,
   "metadata": {},
   "outputs": [
    {
     "data": {
      "text/plain": [
       "1.0"
      ]
     },
     "execution_count": 1,
     "metadata": {},
     "output_type": "execute_result"
    }
   ],
   "source": [
    "import tensorflow as tf\n",
    "\n",
    "# with tf.variable_scope(\"var\") as scope:\n",
    "#     v = tf.get_variable(\"t\",initializer=1)\n",
    "#     scope.reuse_variables()\n",
    "#     v2 = tf.get_variable(\"t\",initializer=1)\n",
    "\n",
    "with tf.variable_scope(\"foo\") as scope:\n",
    "    v = tf.get_variable(\"v\",initializer=1.0)\n",
    "    scope.reuse_variables()\n",
    "    v1 = tf.get_variable(\"v\",initializer=1.0)\n",
    "    \n",
    "sess = tf.Session()\n",
    "init = tf.global_variables_initializer()\n",
    "sess.run(init)\n",
    "\n",
    "\n",
    "sess.run(v)"
   ]
  },
  {
   "cell_type": "code",
   "execution_count": 4,
   "metadata": {},
   "outputs": [
    {
     "data": {
      "text/plain": [
       "True"
      ]
     },
     "execution_count": 4,
     "metadata": {},
     "output_type": "execute_result"
    }
   ],
   "source": [
    "import cv2\n",
    "import numpy as np\n",
    "l = [1,2,3,4,5,6]\n",
    "\n",
    "a = np.array(l).reshape(3,2)\n",
    "\n",
    "cv2.imwrite(str(2/1)+\".jpg\",a)"
   ]
  }
 ],
 "metadata": {
  "kernelspec": {
   "display_name": "Python 2",
   "language": "python",
   "name": "python2"
  },
  "language_info": {
   "codemirror_mode": {
    "name": "ipython",
    "version": 2
   },
   "file_extension": ".py",
   "mimetype": "text/x-python",
   "name": "python",
   "nbconvert_exporter": "python",
   "pygments_lexer": "ipython2",
   "version": "2.7.13"
  }
 },
 "nbformat": 4,
 "nbformat_minor": 2
}
