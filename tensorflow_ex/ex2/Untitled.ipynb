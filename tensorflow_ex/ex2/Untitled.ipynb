{
 "cells": [
  {
   "cell_type": "code",
   "execution_count": 35,
   "metadata": {
    "collapsed": false
   },
   "outputs": [
    {
     "name": "stdout",
     "output_type": "stream",
     "text": [
      "Counter({'c': 3, 'b': 3, 'a': 2})\n",
      "[('a', 3), ('c', 3), ('b', 3), ('d', 5)]\n",
      "[('d', 0), ('a', 1), ('b', 2), ('c', 3)]\n",
      "Counter({'d': 5, 'a': 3, 'c': 3, 'b': 3})\n"
     ]
    }
   ],
   "source": [
    "import collections\n",
    "\n",
    "c = collections.Counter(['a','b','c','b','c','c','a','b'])\n",
    "\n",
    "print c\n",
    "\n",
    "c.update({'a':1,'d':5})\n",
    "\n",
    "print c.items()\n",
    "\n",
    "cpairs = sorted(c.items(), key=lambda x: (-x[1],x[0]))\n",
    "\n",
    "words,_=list(zip(*cpairs))\n",
    "\n",
    "word_to_id = zip(words, range(len(words)))\n",
    "\n",
    "\n",
    "print word_to_id\n",
    "\n",
    "print c"
   ]
  }
 ],
 "metadata": {
  "anaconda-cloud": {},
  "kernelspec": {
   "display_name": "Python [conda root]",
   "language": "python",
   "name": "conda-root-py"
  },
  "language_info": {
   "codemirror_mode": {
    "name": "ipython",
    "version": 2
   },
   "file_extension": ".py",
   "mimetype": "text/x-python",
   "name": "python",
   "nbconvert_exporter": "python",
   "pygments_lexer": "ipython2",
   "version": "2.7.12"
  }
 },
 "nbformat": 4,
 "nbformat_minor": 1
}
