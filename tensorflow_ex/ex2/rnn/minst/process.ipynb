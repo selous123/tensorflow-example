{
 "cells": [
  {
   "cell_type": "code",
   "execution_count": 13,
   "metadata": {
    "collapsed": false
   },
   "outputs": [
    {
     "name": "stdout",
     "output_type": "stream",
     "text": [
      "3\n"
     ]
    }
   ],
   "source": [
    "import tensorflow as tf\n",
    "\n",
    "#create graph\n",
    "image = tf.constant([[1,2,3],[4,5,6],[7,8,9]])\n",
    "\n",
    "images = tf.unstack(image,3,0);\n",
    "\n",
    "with tf.Session() as sess:\n",
    "    print len(sess.run(images));\n",
    "\n"
   ]
  },
  {
   "cell_type": "code",
   "execution_count": 16,
   "metadata": {
    "collapsed": false
   },
   "outputs": [
    {
     "name": "stdout",
     "output_type": "stream",
     "text": [
      "(2, 10, 8)\n"
     ]
    }
   ],
   "source": [
    "import numpy as np\n",
    "\n",
    "X = np.random.randn(2, 10, 8)\n",
    "\n",
    "print X.shape"
   ]
  },
  {
   "cell_type": "code",
   "execution_count": null,
   "metadata": {
    "collapsed": true
   },
   "outputs": [],
   "source": [
    "import tensorflow as tf\n",
    "\n",
    "class PTBModel(object):\n",
    "    def __init__(self):#,istraining,config):\n",
    "        #self.batch_size = config.batch_size\n",
    "        #self.istraining = istraining\n",
    "        self._input = tf.placeholder(tf.float32,shape = [None,784],name = 'input');\n",
    "        self._labels = tf.placeholder(tf.float32,shape = [None,10],name = 'labels');\n",
    "        self.prediction\n",
    "        self.optimize\n",
    "        self.evaluation\n",
    "        \n",
    "    @lazy_property\n",
    "    def prediction(self):\n",
    "        W = tf.Variable(tf.zeros([784,10]))\n",
    "        b = tf.Variable(tf.zeros([10]),name = 'input_bias');\n",
    "        y = tf.nn.softmax(tf.matmul(x,W) + b)\n",
    "        return y \n",
    "    \n",
    "    @lazy_property\n",
    "    def optimize(self):       \n",
    "        cross_entropy = -tf.reduce_sum(self._labels*tf.log(self.prediction))\n",
    "        tf.summary.scalar('loss_function', cross_entropy)\n",
    "        train_step = tf.train.GradientDescentOptimizer(0.01).minimize(cross_entropy)\n",
    "        return optimize\n",
    "        \n",
    "    @lazy_property\n",
    "    def evaluation(self):\n",
    "        correct_prediction = tf.equal(tf.argmax(tf._labels, 1), tf.argmax(tf.prediction, 1))\n",
    "        accuracy = tf.reduce_mean(tf.cast(correct_prediction, \"float32\"))\n",
    "        tf.summary.scalar('accuracy', accuracy)\n",
    "        return accuracy\n",
    "        \n",
    "        \n",
    "        \n",
    "        \n",
    "        "
   ]
  },
  {
   "cell_type": "code",
   "execution_count": 10,
   "metadata": {
    "collapsed": false
   },
   "outputs": [
    {
     "name": "stdout",
     "output_type": "stream",
     "text": [
      "23\n",
      "20 13\n",
      "14 15\n",
      "30 40\n",
      "30 40\n",
      "11 12\n",
      "30 40\n"
     ]
    }
   ],
   "source": [
    "class aa:\n",
    "      w = 10\n",
    "      def __init__(self):\n",
    "           self.x = 11\n",
    "           self.y = 12\n",
    "      def add(self):\n",
    "           return self.x + self.y\n",
    "\n",
    "a = aa()\n",
    "print a.add()\n",
    "\n",
    "aa.w = 20 \n",
    "a.w = 13\n",
    "print aa.w, a.w\n",
    "\n",
    "a.t = 14\n",
    "a.q = 15\n",
    "print a.t, a.q\n",
    "\n",
    "aa.m = 30\n",
    "aa.n = 40\n",
    "print aa.m, aa.n\n",
    "\n",
    "print a.m,a.n;\n",
    "\n",
    "b = aa()\n",
    "print b.x,b.y\n",
    "#print b.t,b.q\n",
    "print b.m,b.n\n"
   ]
  }
 ],
 "metadata": {
  "anaconda-cloud": {},
  "kernelspec": {
   "display_name": "Python [conda root]",
   "language": "python",
   "name": "conda-root-py"
  },
  "language_info": {
   "codemirror_mode": {
    "name": "ipython",
    "version": 2
   },
   "file_extension": ".py",
   "mimetype": "text/x-python",
   "name": "python",
   "nbconvert_exporter": "python",
   "pygments_lexer": "ipython2",
   "version": "2.7.12"
  }
 },
 "nbformat": 4,
 "nbformat_minor": 1
}
