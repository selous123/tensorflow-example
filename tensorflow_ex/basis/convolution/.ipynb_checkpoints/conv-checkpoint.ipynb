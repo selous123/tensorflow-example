{
 "cells": [
  {
   "cell_type": "code",
   "execution_count": 17,
   "metadata": {
    "collapsed": false
   },
   "outputs": [
    {
     "data": {
      "text/plain": [
       "array([[[[ 4.],\n",
       "         [ 2.]],\n",
       "\n",
       "        [[ 2.],\n",
       "         [ 1.]]]], dtype=float32)"
      ]
     },
     "execution_count": 17,
     "metadata": {},
     "output_type": "execute_result"
    }
   ],
   "source": [
    "import tensorflow as tf\n",
    "\n",
    "x = tf.constant(1.0, shape=[1,3,3,1])  \n",
    "kernel = tf.constant(1.0, shape=[2,2,1,1])  \n",
    "y = tf.nn.conv2d(x,kernel,strides=[1,2,2,1],padding='SAME')\n",
    "\n",
    "sess = tf.Session()\n",
    "init = tf.global_variables_initializer()\n",
    "sess.run(init)\n",
    "\n",
    "y.eval(session=sess)"
   ]
  },
  {
   "cell_type": "code",
   "execution_count": 35,
   "metadata": {
    "collapsed": false
   },
   "outputs": [
    {
     "data": {
      "text/plain": [
       "array([[[[ 1.],\n",
       "         [ 2.],\n",
       "         [ 1.]],\n",
       "\n",
       "        [[ 2.],\n",
       "         [ 4.],\n",
       "         [ 2.]],\n",
       "\n",
       "        [[ 1.],\n",
       "         [ 2.],\n",
       "         [ 1.]]]], dtype=float32)"
      ]
     },
     "execution_count": 35,
     "metadata": {},
     "output_type": "execute_result"
    }
   ],
   "source": [
    "import tensorflow as tf\n",
    "\n",
    "x = tf.constant(1.0, shape=[1,2,2,1])  \n",
    "kernel = tf.constant(1.0, shape=[3,3,1,1])\n",
    "output_shape = [1,3,3,1]\n",
    "y = tf.nn.conv2d_transpose(x,kernel,output_shape=output_shape,strides=[1,2,2,1])\n",
    "\n",
    "sess = tf.Session()\n",
    "init = tf.global_variables_initializer()\n",
    "sess.run(init)\n",
    "\n",
    "y.eval(session=sess)"
   ]
  },
  {
   "cell_type": "code",
   "execution_count": 30,
   "metadata": {
    "collapsed": false
   },
   "outputs": [
    {
     "data": {
      "text/plain": [
       "array([[[[ 1.,  1.,  1.],\n",
       "         [ 2.,  2.,  2.],\n",
       "         [ 1.,  1.,  1.],\n",
       "         [ 2.,  2.,  2.],\n",
       "         [ 1.,  1.,  1.]],\n",
       "\n",
       "        [[ 2.,  2.,  2.],\n",
       "         [ 4.,  4.,  4.],\n",
       "         [ 2.,  2.,  2.],\n",
       "         [ 4.,  4.,  4.],\n",
       "         [ 2.,  2.,  2.]],\n",
       "\n",
       "        [[ 1.,  1.,  1.],\n",
       "         [ 2.,  2.,  2.],\n",
       "         [ 1.,  1.,  1.],\n",
       "         [ 2.,  2.,  2.],\n",
       "         [ 1.,  1.,  1.]],\n",
       "\n",
       "        [[ 2.,  2.,  2.],\n",
       "         [ 4.,  4.,  4.],\n",
       "         [ 2.,  2.,  2.],\n",
       "         [ 4.,  4.,  4.],\n",
       "         [ 2.,  2.,  2.]],\n",
       "\n",
       "        [[ 1.,  1.,  1.],\n",
       "         [ 2.,  2.,  2.],\n",
       "         [ 1.,  1.,  1.],\n",
       "         [ 2.,  2.,  2.],\n",
       "         [ 1.,  1.,  1.]]]], dtype=float32)"
      ]
     },
     "execution_count": 30,
     "metadata": {},
     "output_type": "execute_result"
    }
   ],
   "source": [
    "import tensorflow as tf\n",
    "\n",
    "x1 = tf.constant(1.0, shape=[1,3,3,1])  \n",
    "kernel = tf.constant(1.0, shape=[3,3,3,1])\n",
    "y3 = tf.nn.conv2d_transpose(x1,kernel,output_shape=[1,5,5,3], strides=[1,2,2,1],padding=\"SAME\")  \n",
    "\n",
    "sess = tf.Session()\n",
    "init = tf.global_variables_initializer()\n",
    "sess.run(init)\n",
    "\n",
    "y3.eval(session=sess)\n",
    "    \n",
    "    "
   ]
  }
 ],
 "metadata": {
  "anaconda-cloud": {},
  "kernelspec": {
   "display_name": "Python [conda root]",
   "language": "python",
   "name": "conda-root-py"
  },
  "language_info": {
   "codemirror_mode": {
    "name": "ipython",
    "version": 2
   },
   "file_extension": ".py",
   "mimetype": "text/x-python",
   "name": "python",
   "nbconvert_exporter": "python",
   "pygments_lexer": "ipython2",
   "version": "2.7.12"
  }
 },
 "nbformat": 4,
 "nbformat_minor": 1
}
