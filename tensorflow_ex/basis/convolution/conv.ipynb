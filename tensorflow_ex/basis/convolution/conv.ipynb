{
 "cells": [
  {
   "cell_type": "code",
   "execution_count": 14,
   "metadata": {},
   "outputs": [
    {
     "name": "stdout",
     "output_type": "stream",
     "text": [
      "[[[[ 0.95173991]]\n",
      "\n",
      "  [[ 0.38284373]]]\n",
      "\n",
      "\n",
      " [[[ 0.39156973]]\n",
      "\n",
      "  [[ 0.09101355]]]]\n",
      "[[[[ 1.81716692]\n",
      "   [ 1.81716692]\n",
      "   [ 1.34330964]]\n",
      "\n",
      "  [[ 1.81716692]\n",
      "   [ 1.81716692]\n",
      "   [ 1.34330964]]\n",
      "\n",
      "  [[ 1.33458364]\n",
      "   [ 1.33458364]\n",
      "   [ 0.95173991]]]]\n"
     ]
    }
   ],
   "source": [
    "import tensorflow as tf\n",
    "\n",
    "x = tf.constant(1.0,shape=[1,3,3,1]) \n",
    "kernel = tf.Variable(tf.random_uniform([2,2,1,1]))\n",
    "y = tf.nn.conv2d(x,kernel,strides=[1,1,1,1],padding='SAME')\n",
    "\n",
    "sess = tf.Session()\n",
    "init = tf.global_variables_initializer()\n",
    "sess.run(init)\n",
    "\n",
    "print kernel.eval(session=sess)\n",
    "print y.eval(session=sess)\n"
   ]
  },
  {
   "cell_type": "code",
   "execution_count": 24,
   "metadata": {},
   "outputs": [
    {
     "name": "stdout",
     "output_type": "stream",
     "text": [
      "[[[[ 1.]\n",
      "   [ 1.]\n",
      "   [ 2.]\n",
      "   [ 1.]\n",
      "   [ 2.]\n",
      "   [ 1.]]\n",
      "\n",
      "  [[ 1.]\n",
      "   [ 1.]\n",
      "   [ 2.]\n",
      "   [ 1.]\n",
      "   [ 2.]\n",
      "   [ 1.]]\n",
      "\n",
      "  [[ 2.]\n",
      "   [ 2.]\n",
      "   [ 4.]\n",
      "   [ 2.]\n",
      "   [ 4.]\n",
      "   [ 2.]]\n",
      "\n",
      "  [[ 1.]\n",
      "   [ 1.]\n",
      "   [ 2.]\n",
      "   [ 1.]\n",
      "   [ 2.]\n",
      "   [ 1.]]\n",
      "\n",
      "  [[ 2.]\n",
      "   [ 2.]\n",
      "   [ 4.]\n",
      "   [ 2.]\n",
      "   [ 4.]\n",
      "   [ 2.]]\n",
      "\n",
      "  [[ 1.]\n",
      "   [ 1.]\n",
      "   [ 2.]\n",
      "   [ 1.]\n",
      "   [ 2.]\n",
      "   [ 1.]]]]\n"
     ]
    }
   ],
   "source": [
    "import tensorflow as tf\n",
    "\n",
    "x = tf.constant(1.0, shape=[1,3,3,1])  \n",
    "kernel = tf.constant(1.0, shape=[3,3,1,1])\n",
    "output_shape = [1,6,6,1]\n",
    "y = tf.nn.conv2d_transpose(x,kernel,output_shape=output_shape,strides=[1,2,2,1],padding='SAME')\n",
    "\n",
    "sess = tf.Session()\n",
    "init = tf.global_variables_initializer()\n",
    "sess.run(init)\n",
    "\n",
    "print y.eval(session=sess)\n"
   ]
  },
  {
   "cell_type": "code",
   "execution_count": 25,
   "metadata": {},
   "outputs": [
    {
     "name": "stdout",
     "output_type": "stream",
     "text": [
      "[[[[ 0.10856032]]\n",
      "\n",
      "  [[ 0.59885716]]\n",
      "\n",
      "  [[ 0.2087307 ]]]\n",
      "\n",
      "\n",
      " [[[ 0.07439339]]\n",
      "\n",
      "  [[ 0.61714029]]\n",
      "\n",
      "  [[ 0.25675881]]]\n",
      "\n",
      "\n",
      " [[[ 0.55574286]]\n",
      "\n",
      "  [[ 0.16554129]]\n",
      "\n",
      "  [[ 0.11946464]]]]\n",
      "[[[[ 0.10856032]\n",
      "   [ 0.59885716]\n",
      "   [ 0.31729102]\n",
      "   [ 0.59885716]]\n",
      "\n",
      "  [[ 0.07439339]\n",
      "   [ 0.61714029]\n",
      "   [ 0.3311522 ]\n",
      "   [ 0.61714029]]\n",
      "\n",
      "  [[ 0.66430318]\n",
      "   [ 0.76439846]\n",
      "   [ 0.99249852]\n",
      "   [ 0.76439846]]\n",
      "\n",
      "  [[ 0.07439339]\n",
      "   [ 0.61714029]\n",
      "   [ 0.3311522 ]\n",
      "   [ 0.61714029]]]]\n"
     ]
    }
   ],
   "source": [
    "import tensorflow as tf\n",
    "x1 = tf.constant(1.0, shape=[1,2,2,1]) \n",
    "kernel = tf.Variable(tf.random_uniform([3,3,1,1]))\n",
    "output_shape = [1,4,4,1]\n",
    "y3 = tf.nn.conv2d_transpose(x1,kernel,output_shape=output_shape, strides=[1,2,2,1],padding=\"SAME\") \n",
    "sess = tf.Session()\n",
    "init = tf.global_variables_initializer()\n",
    "sess.run(init)\n",
    "\n",
    "\n",
    "print kernel.eval(session=sess)\n",
    "print y3.eval(session=sess)\n",
    "    \n",
    "    "
   ]
  }
 ],
 "metadata": {
  "anaconda-cloud": {},
  "kernelspec": {
   "display_name": "Python 2",
   "language": "python",
   "name": "python2"
  },
  "language_info": {
   "codemirror_mode": {
    "name": "ipython",
    "version": 2
   },
   "file_extension": ".py",
   "mimetype": "text/x-python",
   "name": "python",
   "nbconvert_exporter": "python",
   "pygments_lexer": "ipython2",
   "version": "2.7.13"
  }
 },
 "nbformat": 4,
 "nbformat_minor": 1
}
