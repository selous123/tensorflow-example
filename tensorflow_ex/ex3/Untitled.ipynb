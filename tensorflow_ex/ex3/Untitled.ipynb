{
 "cells": [
  {
   "cell_type": "code",
   "execution_count": 5,
   "metadata": {},
   "outputs": [
    {
     "name": "stdout",
     "output_type": "stream",
     "text": [
      "9\n"
     ]
    }
   ],
   "source": [
    "import tensorflow as tf\n",
    "import numpy as np\n",
    "import os\n",
    "import time\n",
    "\n",
    "class Model(object):\n",
    "    def __init__(self,input,output):\n",
    "        \"\"\"\n",
    "        \n",
    "        Args:\n",
    "            input :size of input data,(height,width)\n",
    "            output:size of output data,(height,width)\n",
    "        \n",
    "        \n",
    "        \"\"\"\n",
    "        \n",
    "        self.input = input\n",
    "        self.output = output\n",
    "        \n",
    "        self.build_model()\n",
    "    def build_model():\n",
    "        pass\n",
    "    def train():\n",
    "        pass\n",
    "    def discriminator():\n",
    "        pass\n",
    "\n",
    "    def generator():\n",
    "        pass\n",
    "    \n",
    "\n"
   ]
  },
  {
   "cell_type": "code",
   "execution_count": 4,
   "metadata": {},
   "outputs": [
    {
     "name": "stdout",
     "output_type": "stream",
     "text": [
      "1\n"
     ]
    }
   ],
   "source": [
    "\n",
    "\n",
    "def f(input,output):\n",
    "    print input\n",
    "\n",
    "f(1,2)"
   ]
  }
 ],
 "metadata": {
  "kernelspec": {
   "display_name": "Python 2",
   "language": "python",
   "name": "python2"
  },
  "language_info": {
   "codemirror_mode": {
    "name": "ipython",
    "version": 2
   },
   "file_extension": ".py",
   "mimetype": "text/x-python",
   "name": "python",
   "nbconvert_exporter": "python",
   "pygments_lexer": "ipython2",
   "version": "2.7.13"
  }
 },
 "nbformat": 4,
 "nbformat_minor": 2
}
